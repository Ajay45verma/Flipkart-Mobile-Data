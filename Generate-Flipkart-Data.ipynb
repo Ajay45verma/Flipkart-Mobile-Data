{
 "cells": [
  {
   "cell_type": "code",
   "execution_count": 1,
   "id": "8396a689",
   "metadata": {},
   "outputs": [],
   "source": [
    "import pandas as pd\n",
    "import requests\n",
    "from bs4 import BeautifulSoup"
   ]
  },
  {
   "cell_type": "code",
   "execution_count": 27,
   "id": "333b6f57",
   "metadata": {},
   "outputs": [
    {
     "name": "stdout",
     "output_type": "stream",
     "text": [
      "yes\n",
      "200\n"
     ]
    }
   ],
   "source": [
    "url=\"https://www.flipkart.com/search?q=Mobile+under+200000&otracker=search&otracker1=search&marketplace=FLIPKART&as-show=on&as=off&page=1\"\n",
    "r=requests.get(url)\n",
    "if r.status_code==200 :\n",
    "    print(\"yes\")\n",
    "print(r.status_code)"
   ]
  },
  {
   "cell_type": "code",
   "execution_count": 28,
   "id": "844e9a7f",
   "metadata": {},
   "outputs": [],
   "source": [
    "soup=BeautifulSoup(r.text, \"lxml\")\n",
    "# div=soup.find_all(\"div\", class_=\"_4rR01T\")\n",
    "# Mobile_Name=[]\n",
    "# Rating=[]\n",
    "# for i in range(len(div)):\n",
    "#     name=soup.find_all(\"div\", class_=\"_4rR01T\")[i].text\n",
    "#     Mobile_Name.append(name)\n",
    "#     rating=soup.find_all(\"span\", class_=\"_1lRcqv\")[i].text\n",
    "#     Rating.append(rating)\n",
    "# print(Mobile_Name)\n"
   ]
  },
  {
   "cell_type": "code",
   "execution_count": 30,
   "id": "1fb57141",
   "metadata": {},
   "outputs": [
    {
     "name": "stdout",
     "output_type": "stream",
     "text": [
      "OPPO Reno 11 Pro 5G (Pearl White, 256 GB)\n",
      "₹39,999\n",
      "None\n",
      "<li class=\"rgWa7D\">12 GB RAM | 256 GB ROM</li>\n"
     ]
    }
   ],
   "source": [
    "box=soup.find_all(\"div\", class_=\"_3pLy-c row\")\n",
    "na=box[0].find(\"div\", class_=\"_4rR01T\").text\n",
    "pr=box[0].find(\"div\", class_=\"_30jeq3\").text\n",
    "ra=box[0].find(\"div\", class_=\"_3LWZlK\")\n",
    "me=box[0].find_all(\"li\", class_=\"rgWa7D\")[0]\n",
    "print(na)\n",
    "print(pr)\n",
    "print(ra)\n",
    "print(me)"
   ]
  },
  {
   "cell_type": "code",
   "execution_count": 46,
   "id": "0a40e0ad",
   "metadata": {},
   "outputs": [
    {
     "name": "stdout",
     "output_type": "stream",
     "text": [
      "984\n",
      "984\n",
      "984\n",
      "984\n",
      "984\n",
      "984\n"
     ]
    }
   ],
   "source": [
    "j=1\n",
    "url=\"https://www.flipkart.com/search?q=Mobile+under+200000&otracker=search&otracker1=search&marketplace=FLIPKART&as-show=on&as=off&page=1\"\n",
    "req=requests.get(url)\n",
    "Mobile_Name=[]\n",
    "Price=[]\n",
    "Memory=[]\n",
    "Display_Size=[]\n",
    "Rating=[]\n",
    "Battery=[]\n",
    "while req.status_code == 200 :\n",
    "    soup=BeautifulSoup(req.text, \"lxml\")\n",
    "    box=soup.find_all(\"div\", class_=\"_3pLy-c row\")\n",
    "    for x in range(len(box)):\n",
    "        name=box[x].find(\"div\", class_=\"_4rR01T\")\n",
    "        price=box[x].find(\"div\", class_=\"_30jeq3\")\n",
    "        rating=box[x].find(\"div\", class_=\"_3LWZlK\")\n",
    "        me=box[x].find_all(\"li\", class_=\"rgWa7D\")[0]\n",
    "        size=box[x].find_all(\"li\", class_=\"rgWa7D\")[1]\n",
    "        battery=box[x].find_all(\"li\", class_=\"rgWa7D\")[3]\n",
    "        if name !=None :\n",
    "            Mobile_Name.append(name.text)\n",
    "        else :\n",
    "            Mobile_Name.append(\"NA\")\n",
    "            \n",
    "        if price !=None :\n",
    "            Price.append(price.text) \n",
    "        else :\n",
    "            Price.append(\"NA\")\n",
    "            \n",
    "        if me !=None :\n",
    "            Memory.append(me.text)\n",
    "        else :\n",
    "            Memory.append(\"NA\")\n",
    "        if size !=None :\n",
    "            Display_Size.append(size.text)\n",
    "        else :\n",
    "            Display_Size.append(\"NA\")\n",
    "        if rating !=None :\n",
    "            Rating.append(rating.text)\n",
    "        else :\n",
    "            Rating.append(\"NA\")\n",
    "        if battery !=None :\n",
    "            Battery.append(battery.text)\n",
    "        else :\n",
    "            Battery.append(\"NA\")\n",
    "        \n",
    "      \n",
    "        \n",
    "    j=j+1\n",
    "    url=\"https://www.flipkart.com/search?q=Mobile+under+200000&otracker=search&otracker1=search&marketplace=FLIPKART&as-show=on&as=off&page=\"+str(j)\n",
    "    req=requests.get(url)\n",
    "\n",
    "print(len(Mobile_Name))\n",
    "print(len(Price)) \n",
    "print(len(Memory))  \n",
    "print(len(Display_Size))  \n",
    "print(len(Rating))  \n",
    "print(len(Battery))  "
   ]
  },
  {
   "cell_type": "code",
   "execution_count": 49,
   "id": "49409fe1",
   "metadata": {},
   "outputs": [
    {
     "data": {
      "text/plain": [
       "(984, 6)"
      ]
     },
     "execution_count": 49,
     "metadata": {},
     "output_type": "execute_result"
    }
   ],
   "source": [
    "df=pd.DataFrame({\"Mobile_Name\":Mobile_Name, \"Battery\":Battery, \"Display_Size\":Display_Size, \"Memory\":Memory, \"Rating\":Rating, \"Price\":Price})\n",
    "df.sample(5)\n",
    "df.shape"
   ]
  },
  {
   "cell_type": "code",
   "execution_count": 50,
   "id": "05d23226",
   "metadata": {},
   "outputs": [],
   "source": [
    "df.to_csv(\"Flipkart_Mobile_data.csv\")"
   ]
  },
  {
   "cell_type": "code",
   "execution_count": 51,
   "id": "04b74b69",
   "metadata": {},
   "outputs": [
    {
     "data": {
      "text/plain": [
       "(984, 7)"
      ]
     },
     "execution_count": 51,
     "metadata": {},
     "output_type": "execute_result"
    }
   ],
   "source": [
    "ft=pd.read_csv(\"Flipkart_Mobile_data.csv\")\n",
    "ft.shape"
   ]
  },
  {
   "cell_type": "code",
   "execution_count": null,
   "id": "b05f8cb8",
   "metadata": {},
   "outputs": [],
   "source": []
  }
 ],
 "metadata": {
  "kernelspec": {
   "display_name": "Python 3",
   "language": "python",
   "name": "python3"
  },
  "language_info": {
   "codemirror_mode": {
    "name": "ipython",
    "version": 3
   },
   "file_extension": ".py",
   "mimetype": "text/x-python",
   "name": "python",
   "nbconvert_exporter": "python",
   "pygments_lexer": "ipython3",
   "version": "3.8.8"
  }
 },
 "nbformat": 4,
 "nbformat_minor": 5
}
